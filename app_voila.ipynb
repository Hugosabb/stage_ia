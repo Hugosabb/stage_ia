{
 "cells": [
  {
   "cell_type": "code",
   "execution_count": 1,
   "id": "c3e22395",
   "metadata": {},
   "outputs": [],
   "source": [
    "from fastai.vision.all import *\n",
    "from fastai.vision.widgets import *"
   ]
  },
  {
   "cell_type": "code",
   "execution_count": 2,
   "id": "2b366570",
   "metadata": {},
   "outputs": [],
   "source": [
    "def get_x(r):\n",
    "    '''extract the independant variable x (images)'''\n",
    "    return path_data/(r['fname']+'.png')\n",
    "def get_y(r):\n",
    "    '''extract the dependent variable y (labels)'''\n",
    "    return r['labels'].split(' ')\n",
    "\n",
    "def splitter(df):\n",
    "    ''' create the train and valid indices according to the boolean \"is_valid\" column'''\n",
    "    train = df.index[~df['is_valid']].tolist()\n",
    "    valid = df.index[df['is_valid']].tolist()\n",
    "    return train,valid"
   ]
  },
  {
   "cell_type": "code",
   "execution_count": 3,
   "id": "e58edcff",
   "metadata": {
    "scrolled": true
   },
   "outputs": [],
   "source": [
    "learn_inf = load_learner('model_res18_multilabel_classification360_640.pkl')"
   ]
  },
  {
   "cell_type": "code",
   "execution_count": 4,
   "id": "ce5877f9",
   "metadata": {},
   "outputs": [],
   "source": [
    "btn_upload = widgets.FileUpload()\n",
    "out_pl = widgets.Output()\n",
    "lbl_pred = widgets.Label()\n"
   ]
  },
  {
   "cell_type": "code",
   "execution_count": 5,
   "id": "0ca3f597",
   "metadata": {},
   "outputs": [],
   "source": [
    "def on_data_change(change):\n",
    "    lbl_pred.value = ''\n",
    "    img = PILImage.create(btn_upload.data[-1])\n",
    "    out_pl.clear_output()\n",
    "    with out_pl: display(img.to_thumb(128,128))\n",
    "    pred,pred_idx,probs = learn_inf.predict(img)\n",
    "    lbl_pred.value = \"Prediction : %s and Probability : %s\" % (pred,probs[pred_idx])"
   ]
  },
  {
   "cell_type": "code",
   "execution_count": 6,
   "id": "8b320845",
   "metadata": {},
   "outputs": [],
   "source": [
    "btn_upload.observe(on_data_change, names=['data'])"
   ]
  },
  {
   "cell_type": "code",
   "execution_count": 7,
   "id": "21946745",
   "metadata": {},
   "outputs": [
    {
     "data": {
      "application/vnd.jupyter.widget-view+json": {
       "model_id": "3870af05a9c24c519ae3b3f93b729d21",
       "version_major": 2,
       "version_minor": 0
      },
      "text/plain": [
       "VBox(children=(Label(value='Select your seabed!'), FileUpload(value={}, description='Upload'), Output(), Label…"
      ]
     },
     "metadata": {},
     "output_type": "display_data"
    }
   ],
   "source": [
    "display(VBox([widgets.Label('Select your seabed!'), btn_upload, out_pl, lbl_pred]))"
   ]
  }
 ],
 "metadata": {
  "kernelspec": {
   "display_name": "Python 3",
   "language": "python",
   "name": "python3"
  },
  "language_info": {
   "codemirror_mode": {
    "name": "ipython",
    "version": 3
   },
   "file_extension": ".py",
   "mimetype": "text/x-python",
   "name": "python",
   "nbconvert_exporter": "python",
   "pygments_lexer": "ipython3",
   "version": "3.8.2"
  }
 },
 "nbformat": 4,
 "nbformat_minor": 5
}
